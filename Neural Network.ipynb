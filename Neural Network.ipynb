{
 "cells": [
  {
   "cell_type": "markdown",
   "metadata": {},
   "source": [
    "# Build Neural Network"
   ]
  },
  {
   "cell_type": "markdown",
   "metadata": {},
   "source": [
    "In this notebook, I will import the preprocessed data from the notebook \"Data Preprocessing\" and build a neural network using Keras to predict the type of seed."
   ]
  },
  {
   "cell_type": "code",
   "execution_count": 1,
   "metadata": {},
   "outputs": [],
   "source": [
    "# Import libraries\n",
    "import pandas as pd\n",
    "import numpy as np\n",
    "import matplotlib.pyplot as plt\n",
    "import seaborn as sns\n",
    "import tensorflow as tf\n",
    "from tensorflow import keras\n",
    "from tensorflow.keras import layers\n",
    "from tensorflow.keras.callbacks import EarlyStopping\n",
    "from sklearn.metrics import confusion_matrix\n",
    "from sklearn.metrics import classification_report"
   ]
  },
  {
   "cell_type": "code",
   "execution_count": 2,
   "metadata": {},
   "outputs": [],
   "source": [
    "# Import preprocessed data\n",
    "X_train = pd.read_csv('X_train.csv')\n",
    "y_train = pd.read_csv('y_train.csv')\n",
    "X_valid = pd.read_csv('X_valid.csv')\n",
    "y_valid = pd.read_csv('y_valid.csv')"
   ]
  },
  {
   "cell_type": "code",
   "execution_count": 3,
   "metadata": {},
   "outputs": [
    {
     "name": "stdout",
     "output_type": "stream",
     "text": [
      "Epoch 1/100\n",
      "15/15 [==============================] - 4s 82ms/step - loss: 1.2595 - accuracy: 0.1156 - val_loss: 1.2416 - val_accuracy: 0.2222\n",
      "Epoch 2/100\n",
      "15/15 [==============================] - 0s 12ms/step - loss: 1.2439 - accuracy: 0.1156 - val_loss: 1.2306 - val_accuracy: 0.1905\n",
      "Epoch 3/100\n",
      "15/15 [==============================] - 0s 13ms/step - loss: 1.2311 - accuracy: 0.0952 - val_loss: 1.2218 - val_accuracy: 0.1111\n",
      "Epoch 4/100\n",
      "15/15 [==============================] - 0s 11ms/step - loss: 1.2205 - accuracy: 0.1088 - val_loss: 1.2139 - val_accuracy: 0.1905\n",
      "Epoch 5/100\n",
      "15/15 [==============================] - 0s 11ms/step - loss: 1.2122 - accuracy: 0.0952 - val_loss: 1.2070 - val_accuracy: 0.1746\n",
      "Epoch 6/100\n",
      "15/15 [==============================] - 0s 12ms/step - loss: 1.2050 - accuracy: 0.1905 - val_loss: 1.2012 - val_accuracy: 0.1587\n",
      "Epoch 7/100\n",
      "15/15 [==============================] - 0s 18ms/step - loss: 1.1984 - accuracy: 0.2177 - val_loss: 1.1960 - val_accuracy: 0.1905\n",
      "Epoch 8/100\n",
      "15/15 [==============================] - 0s 12ms/step - loss: 1.1930 - accuracy: 0.2585 - val_loss: 1.1914 - val_accuracy: 0.1270\n",
      "Epoch 9/100\n",
      "15/15 [==============================] - 0s 11ms/step - loss: 1.1874 - accuracy: 0.2993 - val_loss: 1.1866 - val_accuracy: 0.1746\n",
      "Epoch 10/100\n",
      "15/15 [==============================] - 0s 12ms/step - loss: 1.1824 - accuracy: 0.3265 - val_loss: 1.1823 - val_accuracy: 0.2063\n",
      "Epoch 11/100\n",
      "15/15 [==============================] - 0s 11ms/step - loss: 1.1779 - accuracy: 0.3401 - val_loss: 1.1781 - val_accuracy: 0.2698\n",
      "Epoch 12/100\n",
      "15/15 [==============================] - 0s 11ms/step - loss: 1.1730 - accuracy: 0.3878 - val_loss: 1.1736 - val_accuracy: 0.2540\n",
      "Epoch 13/100\n",
      "15/15 [==============================] - 0s 11ms/step - loss: 1.1682 - accuracy: 0.4014 - val_loss: 1.1687 - val_accuracy: 0.3810\n",
      "Epoch 14/100\n",
      "15/15 [==============================] - 0s 11ms/step - loss: 1.1634 - accuracy: 0.4150 - val_loss: 1.1632 - val_accuracy: 0.3810\n",
      "Epoch 15/100\n",
      "15/15 [==============================] - 0s 11ms/step - loss: 1.1585 - accuracy: 0.4354 - val_loss: 1.1581 - val_accuracy: 0.4286\n",
      "Epoch 16/100\n",
      "15/15 [==============================] - 0s 11ms/step - loss: 1.1522 - accuracy: 0.4830 - val_loss: 1.1513 - val_accuracy: 0.4762\n",
      "Epoch 17/100\n",
      "15/15 [==============================] - 0s 15ms/step - loss: 1.1448 - accuracy: 0.5374 - val_loss: 1.1444 - val_accuracy: 0.4603\n",
      "Epoch 18/100\n",
      "15/15 [==============================] - 0s 15ms/step - loss: 1.1358 - accuracy: 0.5782 - val_loss: 1.1341 - val_accuracy: 0.5238\n",
      "Epoch 19/100\n",
      "15/15 [==============================] - 0s 16ms/step - loss: 1.1260 - accuracy: 0.5986 - val_loss: 1.1242 - val_accuracy: 0.5556\n",
      "Epoch 20/100\n",
      "15/15 [==============================] - 0s 12ms/step - loss: 1.1159 - accuracy: 0.5986 - val_loss: 1.1153 - val_accuracy: 0.5556\n",
      "Epoch 21/100\n",
      "15/15 [==============================] - 0s 15ms/step - loss: 1.1043 - accuracy: 0.5918 - val_loss: 1.1052 - val_accuracy: 0.5079\n",
      "Epoch 22/100\n",
      "15/15 [==============================] - 0s 25ms/step - loss: 1.0917 - accuracy: 0.5986 - val_loss: 1.0903 - val_accuracy: 0.5238\n",
      "Epoch 23/100\n",
      "15/15 [==============================] - 0s 18ms/step - loss: 1.0827 - accuracy: 0.5510 - val_loss: 1.0817 - val_accuracy: 0.5079\n",
      "Epoch 24/100\n",
      "15/15 [==============================] - 0s 21ms/step - loss: 1.0686 - accuracy: 0.5918 - val_loss: 1.0670 - val_accuracy: 0.5079\n",
      "Epoch 25/100\n",
      "15/15 [==============================] - 0s 19ms/step - loss: 1.0569 - accuracy: 0.5918 - val_loss: 1.0527 - val_accuracy: 0.5238\n",
      "Epoch 26/100\n",
      "15/15 [==============================] - 0s 18ms/step - loss: 1.0439 - accuracy: 0.6122 - val_loss: 1.0436 - val_accuracy: 0.5397\n",
      "Epoch 27/100\n",
      "15/15 [==============================] - 0s 24ms/step - loss: 1.0324 - accuracy: 0.6259 - val_loss: 1.0275 - val_accuracy: 0.5714\n",
      "Epoch 28/100\n",
      "15/15 [==============================] - 0s 17ms/step - loss: 1.0187 - accuracy: 0.6463 - val_loss: 1.0165 - val_accuracy: 0.5714\n",
      "Epoch 29/100\n",
      "15/15 [==============================] - 0s 17ms/step - loss: 1.0039 - accuracy: 0.6735 - val_loss: 0.9987 - val_accuracy: 0.5873\n",
      "Epoch 30/100\n",
      "15/15 [==============================] - 0s 16ms/step - loss: 0.9881 - accuracy: 0.7007 - val_loss: 0.9823 - val_accuracy: 0.6349\n",
      "Epoch 31/100\n",
      "15/15 [==============================] - 0s 14ms/step - loss: 0.9731 - accuracy: 0.7211 - val_loss: 0.9677 - val_accuracy: 0.6032\n",
      "Epoch 32/100\n",
      "15/15 [==============================] - 0s 16ms/step - loss: 0.9563 - accuracy: 0.7551 - val_loss: 0.9504 - val_accuracy: 0.6508\n",
      "Epoch 33/100\n",
      "15/15 [==============================] - 0s 17ms/step - loss: 0.9382 - accuracy: 0.7891 - val_loss: 0.9329 - val_accuracy: 0.6667\n",
      "Epoch 34/100\n",
      "15/15 [==============================] - 0s 17ms/step - loss: 0.9207 - accuracy: 0.7415 - val_loss: 0.9134 - val_accuracy: 0.6825\n",
      "Epoch 35/100\n",
      "15/15 [==============================] - 0s 22ms/step - loss: 0.9011 - accuracy: 0.7959 - val_loss: 0.8964 - val_accuracy: 0.6984\n",
      "Epoch 36/100\n",
      "15/15 [==============================] - 0s 26ms/step - loss: 0.8816 - accuracy: 0.7823 - val_loss: 0.8768 - val_accuracy: 0.7302\n",
      "Epoch 37/100\n",
      "15/15 [==============================] - 0s 17ms/step - loss: 0.8638 - accuracy: 0.7959 - val_loss: 0.8619 - val_accuracy: 0.7460\n",
      "Epoch 38/100\n",
      "15/15 [==============================] - 0s 11ms/step - loss: 0.8451 - accuracy: 0.8163 - val_loss: 0.8422 - val_accuracy: 0.7460\n",
      "Epoch 39/100\n",
      "15/15 [==============================] - 0s 14ms/step - loss: 0.8283 - accuracy: 0.8299 - val_loss: 0.8260 - val_accuracy: 0.7619\n",
      "Epoch 40/100\n",
      "15/15 [==============================] - 0s 11ms/step - loss: 0.8115 - accuracy: 0.8299 - val_loss: 0.8122 - val_accuracy: 0.7619\n",
      "Epoch 41/100\n",
      "15/15 [==============================] - 0s 11ms/step - loss: 0.7999 - accuracy: 0.8367 - val_loss: 0.7923 - val_accuracy: 0.7778\n",
      "Epoch 42/100\n",
      "15/15 [==============================] - 0s 14ms/step - loss: 0.7766 - accuracy: 0.8367 - val_loss: 0.7822 - val_accuracy: 0.7778\n",
      "Epoch 43/100\n",
      "15/15 [==============================] - 0s 12ms/step - loss: 0.7645 - accuracy: 0.8367 - val_loss: 0.7677 - val_accuracy: 0.7778\n",
      "Epoch 44/100\n",
      "15/15 [==============================] - 0s 12ms/step - loss: 0.7467 - accuracy: 0.8503 - val_loss: 0.7489 - val_accuracy: 0.8095\n",
      "Epoch 45/100\n",
      "15/15 [==============================] - 0s 14ms/step - loss: 0.7329 - accuracy: 0.8571 - val_loss: 0.7335 - val_accuracy: 0.8571\n",
      "Epoch 46/100\n",
      "15/15 [==============================] - 0s 20ms/step - loss: 0.7188 - accuracy: 0.8776 - val_loss: 0.7209 - val_accuracy: 0.8571\n",
      "Epoch 47/100\n",
      "15/15 [==============================] - 0s 12ms/step - loss: 0.7082 - accuracy: 0.8571 - val_loss: 0.7164 - val_accuracy: 0.8095\n",
      "Epoch 48/100\n",
      "15/15 [==============================] - 0s 11ms/step - loss: 0.6911 - accuracy: 0.8571 - val_loss: 0.6968 - val_accuracy: 0.8571\n",
      "Epoch 49/100\n",
      "15/15 [==============================] - 0s 12ms/step - loss: 0.6801 - accuracy: 0.8844 - val_loss: 0.6850 - val_accuracy: 0.8730\n",
      "Epoch 50/100\n",
      "15/15 [==============================] - 0s 13ms/step - loss: 0.6668 - accuracy: 0.8844 - val_loss: 0.6747 - val_accuracy: 0.8730\n",
      "Epoch 51/100\n",
      "15/15 [==============================] - 0s 11ms/step - loss: 0.6551 - accuracy: 0.8707 - val_loss: 0.6652 - val_accuracy: 0.8730\n",
      "Epoch 52/100\n",
      "15/15 [==============================] - 0s 10ms/step - loss: 0.6438 - accuracy: 0.8707 - val_loss: 0.6530 - val_accuracy: 0.8730\n",
      "Epoch 53/100\n",
      "15/15 [==============================] - 0s 10ms/step - loss: 0.6338 - accuracy: 0.8844 - val_loss: 0.6387 - val_accuracy: 0.8889\n",
      "Epoch 54/100\n",
      "15/15 [==============================] - 0s 10ms/step - loss: 0.6241 - accuracy: 0.8844 - val_loss: 0.6379 - val_accuracy: 0.8730\n",
      "Epoch 55/100\n",
      "15/15 [==============================] - 0s 10ms/step - loss: 0.6122 - accuracy: 0.8912 - val_loss: 0.6217 - val_accuracy: 0.8730\n",
      "Epoch 56/100\n",
      "15/15 [==============================] - 0s 10ms/step - loss: 0.6004 - accuracy: 0.8844 - val_loss: 0.6153 - val_accuracy: 0.8730\n",
      "Epoch 57/100\n",
      "15/15 [==============================] - 0s 10ms/step - loss: 0.5923 - accuracy: 0.8912 - val_loss: 0.6082 - val_accuracy: 0.8730\n",
      "Epoch 58/100\n"
     ]
    },
    {
     "name": "stdout",
     "output_type": "stream",
     "text": [
      "15/15 [==============================] - 0s 11ms/step - loss: 0.5845 - accuracy: 0.8844 - val_loss: 0.5954 - val_accuracy: 0.8889\n",
      "Epoch 59/100\n",
      "15/15 [==============================] - 0s 11ms/step - loss: 0.5736 - accuracy: 0.8912 - val_loss: 0.5926 - val_accuracy: 0.8730\n",
      "Epoch 60/100\n",
      "15/15 [==============================] - 0s 9ms/step - loss: 0.5648 - accuracy: 0.8980 - val_loss: 0.5814 - val_accuracy: 0.8889\n",
      "Epoch 61/100\n",
      "15/15 [==============================] - 0s 10ms/step - loss: 0.5560 - accuracy: 0.8980 - val_loss: 0.5754 - val_accuracy: 0.8730\n",
      "Epoch 62/100\n",
      "15/15 [==============================] - 0s 10ms/step - loss: 0.5484 - accuracy: 0.8912 - val_loss: 0.5637 - val_accuracy: 0.8889\n",
      "Epoch 63/100\n",
      "15/15 [==============================] - 0s 10ms/step - loss: 0.5404 - accuracy: 0.9116 - val_loss: 0.5587 - val_accuracy: 0.8889\n",
      "Epoch 64/100\n",
      "15/15 [==============================] - 0s 16ms/step - loss: 0.5328 - accuracy: 0.9048 - val_loss: 0.5519 - val_accuracy: 0.8889\n",
      "Epoch 65/100\n",
      "15/15 [==============================] - 0s 12ms/step - loss: 0.5261 - accuracy: 0.9116 - val_loss: 0.5420 - val_accuracy: 0.8889\n",
      "Epoch 66/100\n",
      "15/15 [==============================] - 0s 10ms/step - loss: 0.5194 - accuracy: 0.9048 - val_loss: 0.5400 - val_accuracy: 0.8889\n",
      "Epoch 67/100\n",
      "15/15 [==============================] - 0s 10ms/step - loss: 0.5119 - accuracy: 0.9116 - val_loss: 0.5325 - val_accuracy: 0.8889\n",
      "Epoch 68/100\n",
      "15/15 [==============================] - 0s 11ms/step - loss: 0.5056 - accuracy: 0.9184 - val_loss: 0.5266 - val_accuracy: 0.8889\n",
      "Epoch 69/100\n",
      "15/15 [==============================] - 0s 11ms/step - loss: 0.4993 - accuracy: 0.9184 - val_loss: 0.5183 - val_accuracy: 0.9048\n",
      "Epoch 70/100\n",
      "15/15 [==============================] - 0s 11ms/step - loss: 0.4937 - accuracy: 0.9184 - val_loss: 0.5133 - val_accuracy: 0.9048\n",
      "Epoch 71/100\n",
      "15/15 [==============================] - 0s 12ms/step - loss: 0.4892 - accuracy: 0.9184 - val_loss: 0.5085 - val_accuracy: 0.9048\n",
      "Epoch 72/100\n",
      "15/15 [==============================] - 0s 10ms/step - loss: 0.4837 - accuracy: 0.9116 - val_loss: 0.5066 - val_accuracy: 0.8889\n",
      "Epoch 73/100\n",
      "15/15 [==============================] - 0s 10ms/step - loss: 0.4771 - accuracy: 0.9184 - val_loss: 0.4995 - val_accuracy: 0.9048\n",
      "Epoch 74/100\n",
      "15/15 [==============================] - 0s 10ms/step - loss: 0.4722 - accuracy: 0.9184 - val_loss: 0.4933 - val_accuracy: 0.9048\n",
      "Epoch 75/100\n",
      "15/15 [==============================] - 0s 11ms/step - loss: 0.4684 - accuracy: 0.9252 - val_loss: 0.4895 - val_accuracy: 0.8889\n",
      "Epoch 76/100\n",
      "15/15 [==============================] - 0s 12ms/step - loss: 0.4623 - accuracy: 0.9184 - val_loss: 0.4887 - val_accuracy: 0.9048\n",
      "Epoch 77/100\n",
      "15/15 [==============================] - 0s 15ms/step - loss: 0.4575 - accuracy: 0.9184 - val_loss: 0.4809 - val_accuracy: 0.9048\n",
      "Epoch 78/100\n",
      "15/15 [==============================] - 0s 15ms/step - loss: 0.4535 - accuracy: 0.9184 - val_loss: 0.4784 - val_accuracy: 0.9048\n",
      "Epoch 79/100\n",
      "15/15 [==============================] - 0s 16ms/step - loss: 0.4500 - accuracy: 0.9184 - val_loss: 0.4726 - val_accuracy: 0.8889\n",
      "Epoch 80/100\n",
      "15/15 [==============================] - 0s 15ms/step - loss: 0.4461 - accuracy: 0.9252 - val_loss: 0.4711 - val_accuracy: 0.9048\n",
      "Epoch 81/100\n",
      "15/15 [==============================] - ETA: 0s - loss: 0.4467 - accuracy: 0.91 - 0s 13ms/step - loss: 0.4403 - accuracy: 0.9184 - val_loss: 0.4667 - val_accuracy: 0.8889\n",
      "Epoch 82/100\n",
      "15/15 [==============================] - 0s 16ms/step - loss: 0.4372 - accuracy: 0.9252 - val_loss: 0.4610 - val_accuracy: 0.9048\n",
      "Epoch 83/100\n",
      "15/15 [==============================] - 0s 24ms/step - loss: 0.4340 - accuracy: 0.9184 - val_loss: 0.4572 - val_accuracy: 0.9048\n",
      "Epoch 84/100\n",
      "15/15 [==============================] - 0s 19ms/step - loss: 0.4299 - accuracy: 0.9184 - val_loss: 0.4568 - val_accuracy: 0.8889\n",
      "Epoch 85/100\n",
      "15/15 [==============================] - 0s 15ms/step - loss: 0.4274 - accuracy: 0.9252 - val_loss: 0.4547 - val_accuracy: 0.9048\n",
      "Epoch 86/100\n",
      "15/15 [==============================] - 0s 14ms/step - loss: 0.4240 - accuracy: 0.9252 - val_loss: 0.4514 - val_accuracy: 0.8889\n",
      "Epoch 87/100\n",
      "15/15 [==============================] - ETA: 0s - loss: 0.4010 - accuracy: 0.94 - 0s 12ms/step - loss: 0.4206 - accuracy: 0.9184 - val_loss: 0.4491 - val_accuracy: 0.8889\n",
      "Epoch 88/100\n",
      "15/15 [==============================] - 0s 13ms/step - loss: 0.4175 - accuracy: 0.9252 - val_loss: 0.4417 - val_accuracy: 0.9048\n",
      "Epoch 89/100\n",
      "15/15 [==============================] - 0s 18ms/step - loss: 0.4153 - accuracy: 0.9252 - val_loss: 0.4404 - val_accuracy: 0.9048\n",
      "Epoch 90/100\n",
      "15/15 [==============================] - 0s 19ms/step - loss: 0.4126 - accuracy: 0.9252 - val_loss: 0.4365 - val_accuracy: 0.9048\n",
      "Epoch 91/100\n",
      "15/15 [==============================] - 0s 23ms/step - loss: 0.4092 - accuracy: 0.9252 - val_loss: 0.4367 - val_accuracy: 0.9048\n",
      "Epoch 92/100\n",
      "15/15 [==============================] - 0s 21ms/step - loss: 0.4064 - accuracy: 0.9252 - val_loss: 0.4331 - val_accuracy: 0.9206\n",
      "Epoch 93/100\n",
      "15/15 [==============================] - 0s 26ms/step - loss: 0.4035 - accuracy: 0.9252 - val_loss: 0.4318 - val_accuracy: 0.9206\n",
      "Epoch 94/100\n",
      "15/15 [==============================] - 0s 19ms/step - loss: 0.4016 - accuracy: 0.9320 - val_loss: 0.4295 - val_accuracy: 0.9048\n",
      "Epoch 95/100\n",
      "15/15 [==============================] - 0s 16ms/step - loss: 0.3988 - accuracy: 0.9320 - val_loss: 0.4246 - val_accuracy: 0.9206\n",
      "Epoch 96/100\n",
      "15/15 [==============================] - 0s 18ms/step - loss: 0.3977 - accuracy: 0.9252 - val_loss: 0.4259 - val_accuracy: 0.9206\n",
      "Epoch 97/100\n",
      "15/15 [==============================] - 0s 17ms/step - loss: 0.3942 - accuracy: 0.9252 - val_loss: 0.4204 - val_accuracy: 0.9206\n",
      "Epoch 98/100\n",
      "15/15 [==============================] - 0s 15ms/step - loss: 0.3919 - accuracy: 0.9252 - val_loss: 0.4217 - val_accuracy: 0.9206\n",
      "Epoch 99/100\n",
      "15/15 [==============================] - 0s 16ms/step - loss: 0.3898 - accuracy: 0.9320 - val_loss: 0.4201 - val_accuracy: 0.9206\n",
      "Epoch 100/100\n",
      "15/15 [==============================] - 0s 17ms/step - loss: 0.3875 - accuracy: 0.9252 - val_loss: 0.4157 - val_accuracy: 0.9206\n"
     ]
    }
   ],
   "source": [
    "# Define Keras model with layers\n",
    "# Use rectified linear unit (relu) activation function until final layer, where softmax is used, \n",
    "# since there are multiple classes in the target\n",
    "# Input shape is number of features\n",
    "# Use L2 regularization to help prevent overfitting\n",
    "model = keras.Sequential([\n",
    "    layers.Dense(units=7, activation='relu', input_shape = [7], kernel_regularizer=keras.regularizers.l2(l=0.01)),\n",
    "    layers.Dense(units=3, activation='relu', kernel_regularizer=keras.regularizers.l2(l=0.01)),\n",
    "    layers.Dense(3, activation='softmax')]) \n",
    "\n",
    "# Set adam optimizer and categorical crossentropy loss function (since there are multiple classes in the target)\n",
    "model.compile(\n",
    "    optimizer='adam',\n",
    "    loss='categorical_crossentropy',\n",
    "    metrics=['accuracy'])\n",
    "\n",
    "# Define early stopping\n",
    "early_stopping = EarlyStopping(\n",
    "    min_delta=0.001, \n",
    "    patience=3, \n",
    "    restore_best_weights=True)\n",
    "\n",
    "# Fit the model, defining batch size (the number of rows of train data to use at a time) and epochs (the number\n",
    "# of times to use entire train data\n",
    "history = model.fit(\n",
    "    X_train, y_train,\n",
    "    validation_data=(X_valid, y_valid),\n",
    "    batch_size=10,\n",
    "    epochs=100,\n",
    "    callbacks=[early_stopping])"
   ]
  },
  {
   "cell_type": "code",
   "execution_count": 4,
   "metadata": {},
   "outputs": [
    {
     "data": {
      "image/png": "[encoded data removed]",
      "text/plain": [
       "<Figure size 432x288 with 1 Axes>"
      ]
     },
     "metadata": {
      "needs_background": "light"
     },
     "output_type": "display_data"
    },
    {
     "data": {
      "image/png": "[encoded data removed]",
      "text/plain": [
       "<Figure size 432x288 with 1 Axes>"
      ]
     },
     "metadata": {
      "needs_background": "light"
     },
     "output_type": "display_data"
    }
   ],
   "source": [
    "# Convert the training history to a dataframe\n",
    "df_history = pd.DataFrame(history.history)\n",
    "\n",
    "# Update column names\n",
    "df_history.rename(columns={'loss':'Loss', 'accuracy':'Accuracy', 'val_loss':'Validation Loss',  \n",
    "                   'val_accuracy':'Validation Accuracy'}, inplace=True)\n",
    "df_history.loc[:, ['Loss', 'Validation Loss']].plot(title=\"Cross-entropy\")\n",
    "df_history.loc[:, ['Accuracy', 'Validation Accuracy']].plot(title=\"Accuracy\");"
   ]
  },
  {
   "cell_type": "code",
   "execution_count": 5,
   "metadata": {},
   "outputs": [],
   "source": [
    "# Make predictions using the model\n",
    "y_pred = np.argmax(model.predict(X_valid), axis=-1)"
   ]
  },
  {
   "cell_type": "code",
   "execution_count": 6,
   "metadata": {},
   "outputs": [],
   "source": [
    "# Convert the validation target data to be compatible with the prediction data\n",
    "y_valid_cm = y_valid.idxmax(axis=1).replace({'Variety of Wheat_1': 0, 'Variety of Wheat_2': 1, 'Variety of Wheat_3': 2}).to_numpy()"
   ]
  },
  {
   "cell_type": "code",
   "execution_count": 7,
   "metadata": {},
   "outputs": [
    {
     "data": {
      "image/png": "[encoded data removed]",
      "text/plain": [
       "<Figure size 396x288 with 2 Axes>"
      ]
     },
     "metadata": {
      "needs_background": "light"
     },
     "output_type": "display_data"
    }
   ],
   "source": [
    "# Confusion matrix\n",
    "cm = confusion_matrix(y_valid_cm, y_pred)\n",
    "df_cm = pd.DataFrame(cm, \n",
    "                     index = ['Kama','Rosa','Canadian'], \n",
    "                     columns = ['Kama','Rosa','Canadian'])\n",
    "\n",
    "plt.figure(figsize=(5.5,4))\n",
    "sns.heatmap(df_cm, annot=True)\n",
    "plt.title('Confusion Matrix')\n",
    "plt.ylabel('True label')\n",
    "plt.xlabel('Predicted label');\n"
   ]
  },
  {
   "cell_type": "code",
   "execution_count": 8,
   "metadata": {},
   "outputs": [
    {
     "name": "stdout",
     "output_type": "stream",
     "text": [
      "              precision    recall  f1-score   support\n",
      "\n",
      "        Kama       0.86      0.90      0.88        20\n",
      "        Rosa       0.95      1.00      0.97        19\n",
      "    Canadian       0.95      0.88      0.91        24\n",
      "\n",
      "    accuracy                           0.92        63\n",
      "   macro avg       0.92      0.92      0.92        63\n",
      "weighted avg       0.92      0.92      0.92        63\n",
      "\n"
     ]
    }
   ],
   "source": [
    "# Print the classification report\n",
    "target_names=['Kama','Rosa','Canadian']\n",
    "print(classification_report(y_valid_cm, y_pred, target_names=target_names))"
   ]
  },
  {
   "cell_type": "markdown",
   "metadata": {},
   "source": [
    "The overall accuracy is 92%. Precision measures, for a given class, the percentage of predictions that were correct for that class. Recall measures what percentage of a given class in the validation set was correctly predicted. \n",
    "\n",
    "The Kama class has higher recall than precision, while the Rosa and Canadian classes have a higher precision than recall. The Rosa class has a recall of 1.00, meaning all instances of the Rosa class in the validation set were correctly predicted to belong to that class."
   ]
  }
 ],
 "metadata": {
  "kernelspec": {
   "display_name": "TF",
   "language": "python",
   "name": "tf"
  },
  "language_info": {
   "codemirror_mode": {
    "name": "ipython",
    "version": 3
   },
   "file_extension": ".py",
   "mimetype": "text/x-python",
   "name": "python",
   "nbconvert_exporter": "python",
   "pygments_lexer": "ipython3",
   "version": "3.9.6"
  }
 },
 "nbformat": 4,
 "nbformat_minor": 4
}
